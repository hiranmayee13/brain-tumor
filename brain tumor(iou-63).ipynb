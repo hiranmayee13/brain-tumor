{
  "nbformat": 4,
  "nbformat_minor": 0,
  "metadata": {
    "colab": {
      "provenance": [],
      "gpuType": "T4"
    },
    "kernelspec": {
      "name": "python3",
      "display_name": "Python 3"
    },
    "language_info": {
      "name": "python"
    },
    "accelerator": "GPU"
  },
  "cells": [
    {
      "cell_type": "code",
      "execution_count": 1,
      "metadata": {
        "id": "dE_OcbIF0e_Q"
      },
      "outputs": [],
      "source": [
        "# Import necessary libraries\n",
        "import os\n",
        "import cv2\n",
        "import numpy as np\n",
        "import tensorflow as tf\n",
        "from glob import glob\n",
        "from sklearn.model_selection import train_test_split\n",
        "from tensorflow.keras.layers import Conv2D, Activation, BatchNormalization, UpSampling2D, Input, Concatenate, MaxPool2D\n",
        "from tensorflow.keras.models import Model\n",
        "from tensorflow.keras.callbacks import EarlyStopping, ModelCheckpoint, ReduceLROnPlateau, CSVLogger, TensorBoard\n",
        "from tensorflow.keras.metrics import Recall, Precision\n",
        "from tqdm import tqdm"
      ]
    },
    {
      "cell_type": "code",
      "source": [
        "def load_data(scan_folder, mask_folder, split=0.1):\n",
        "    images = sorted(glob(os.path.join(scan_folder, \"*\")))\n",
        "    masks = sorted(glob(os.path.join(mask_folder, \"*\")))\n",
        "\n",
        "    min_length = min(len(images), len(masks))\n",
        "    images = images[:min_length]\n",
        "    masks = masks[:min_length]\n",
        "\n",
        "    total_size = len(images)\n",
        "    valid_size = int(split * total_size)\n",
        "    test_size = int(split * total_size)\n",
        "\n",
        "    train_x, valid_x = train_test_split(images, test_size=valid_size, random_state=42)\n",
        "    train_y, valid_y = train_test_split(masks, test_size=valid_size, random_state=42)\n",
        "\n",
        "    train_x, test_x = train_test_split(train_x, test_size=test_size, random_state=42)\n",
        "    train_y, test_y = train_test_split(train_y, test_size=test_size, random_state=42)\n",
        "\n",
        "    return (train_x, train_y), (valid_x, valid_y), (test_x, test_y)\n",
        "def read_image(PATH):\n",
        "    PATH = PATH.decode()\n",
        "    x = cv2.imread(PATH, cv2.IMREAD_COLOR)\n",
        "    x = cv2.resize(x, (128, 128))\n",
        "    x = x / 255.0\n",
        "    return x\n",
        "\n",
        "def read_mask(PATH):\n",
        "    PATH = PATH.decode()\n",
        "    x = cv2.imread(PATH, cv2.IMREAD_GRAYSCALE)\n",
        "    x = cv2.resize(x, (128, 128))\n",
        "    x = x / 255.0\n",
        "    x = np.expand_dims(x, axis=-1)\n",
        "    return x\n",
        "\n",
        "def tf_parse(sx, sy):\n",
        "    def _parse(x, y):\n",
        "        x = read_image(x)\n",
        "        y = read_mask(y)\n",
        "        return x, y\n",
        "    sx, sy = tf.numpy_function(_parse, [sx, sy], [tf.float64, tf.float64])\n",
        "    sx.set_shape([128, 128, 3])\n",
        "    sy.set_shape([128, 128, 1])\n",
        "    return sx, sy\n",
        "\n",
        "def tf_dataset(x, y, batch=8):\n",
        "    dataset = tf.data.Dataset.from_tensor_slices((x, y))\n",
        "    dataset = dataset.map(tf_parse)\n",
        "    dataset = dataset.batch(batch)\n",
        "    dataset = dataset.repeat()\n",
        "    return dataset\n"
      ],
      "metadata": {
        "id": "qF_RFUl01WCm"
      },
      "execution_count": 2,
      "outputs": []
    },
    {
      "cell_type": "code",
      "source": [
        "# Model Definition\n",
        "def conv_block(x, num_filters):\n",
        "    x = Conv2D(num_filters, (3, 3), padding=\"same\")(x)\n",
        "    x = BatchNormalization()(x)\n",
        "    x = Activation(\"relu\")(x)\n",
        "    x = Conv2D(num_filters, (3, 3), padding=\"same\")(x)\n",
        "    x = BatchNormalization()(x)\n",
        "    x = Activation(\"relu\")(x)\n",
        "    return x\n",
        "\n",
        "def build_model():\n",
        "    size = 128\n",
        "    num_filters = [64,128,256]\n",
        "    inputs = Input(shape=(size, size, 3))\n",
        "    skip_x = []\n",
        "    x = inputs\n",
        "    for f in num_filters:\n",
        "        x = conv_block(x, f)\n",
        "        skip_x.append(x)\n",
        "        x = MaxPool2D((2, 2))(x)\n",
        "    x = conv_block(x, num_filters[-1])\n",
        "    num_filters.reverse()\n",
        "    skip_x.reverse()\n",
        "    for i, f, in enumerate(num_filters):\n",
        "        x = UpSampling2D((2, 2))(x)\n",
        "        xs = skip_x[i]\n",
        "        x = Concatenate()([x, xs])\n",
        "        x = conv_block(x, f)\n",
        "    x = Conv2D(1, (1, 1), padding=\"same\")(x)\n",
        "    x = Activation(\"sigmoid\")(x)\n",
        "    return Model(inputs, x)\n",
        ""
      ],
      "metadata": {
        "id": "DEgNr6Hj1YVP"
      },
      "execution_count": 3,
      "outputs": []
    },
    {
      "cell_type": "code",
      "source": [
        "# Training\n",
        "def iou(y_true, y_pred):\n",
        "    def f(y_true, y_pred):\n",
        "        intersection = (y_true * y_pred).sum()\n",
        "        union = y_true.sum() + y_pred.sum() - intersection\n",
        "        x = (intersection + 1e-15) / (union + 1e-15)\n",
        "        x = x.astype(np.float32)\n",
        "        return x\n",
        "    return tf.numpy_function(f, [y_true, y_pred], tf.float32)"
      ],
      "metadata": {
        "id": "11lz33pb1axt"
      },
      "execution_count": 4,
      "outputs": []
    },
    {
      "cell_type": "code",
      "source": [
        "# Define paths and hyperparameters\n",
        "scan_folder = '/content/drive/MyDrive/UNET-Data/Transversal'\n",
        "mask_folder = '/content/drive/MyDrive/UNET-Data/Transversal-Mask'\n",
        "BATCH = 8\n",
        "lr = 1e-4\n",
        "epochs = 50\n",
        "\n",
        "# Load data\n",
        "(train_x, train_y), (valid_x, valid_y), (test_x, test_y) = load_data(scan_folder, mask_folder)\n",
        "\n",
        "# Prepare datasets\n",
        "train_dataset = tf_dataset(train_x, train_y, batch=BATCH)\n",
        "valid_dataset = tf_dataset(valid_x, valid_y, batch=BATCH)\n",
        "\n",
        "# Build and compile model\n",
        "model = build_model()\n",
        "model.summary()\n",
        "opt = tf.keras.optimizers.Adam(lr)\n",
        "metrics = [\"acc\", Recall(), Precision(), iou]\n",
        "model.compile(loss=\"binary_crossentropy\", optimizer=opt, metrics=metrics)\n",
        "\n",
        "# Set up callbacks\n",
        "callbacks = [\n",
        "    ModelCheckpoint(\"model.h5\"),\n",
        "    ReduceLROnPlateau(monitor=\"val_loss\", factor=0.1, patience=3),\n",
        "    CSVLogger(\"data.csv\"),\n",
        "    TensorBoard(),\n",
        "    EarlyStopping(monitor=\"val_loss\", patience=10, restore_best_weights=False)\n",
        "]\n",
        "\n",
        "# Determine steps per epoch\n",
        "train_steps = len(train_x) // BATCH\n",
        "valid_steps = len(valid_x) // BATCH\n",
        "if len(train_x) % BATCH != 0:\n",
        "    train_steps += 1\n",
        "if len(valid_x) % BATCH != 0:\n",
        "    valid_steps += 1\n",
        "\n",
        "# Train the model\n",
        "model.fit(\n",
        "    train_dataset,\n",
        "    validation_data=valid_dataset,\n",
        "    epochs=epochs,\n",
        "    steps_per_epoch=train_steps,\n",
        "    validation_steps=valid_steps,\n",
        "    callbacks=callbacks\n",
        ")\n",
        "\n",
        "# Evaluation\n",
        "def mask_parse(mask):\n",
        "    mask = np.squeeze(mask)\n",
        "    mask = [mask, mask, mask]\n",
        "    mask = np.transpose(mask, (1, 2, 0))\n",
        "    return mask\n",
        "\n",
        "# Load the model for evaluation\n",
        "model = tf.keras.models.load_model(\"model.h5\", custom_objects={'iou': iou})\n",
        "\n",
        "# Prepare test dataset\n",
        "test_dataset = tf_dataset(test_x, test_y, batch=BATCH)\n",
        "test_steps = len(test_x) // BATCH\n",
        "if len(test_x) % BATCH != 0:\n",
        "    test_steps += 1\n",
        "\n",
        "# Evaluate the model\n",
        "model.evaluate(test_dataset, steps=test_steps)\n",
        "\n"
      ],
      "metadata": {
        "colab": {
          "base_uri": "https://localhost:8080/"
        },
        "id": "ZNsEAv5o1c7O",
        "outputId": "f97f9ee5-8f8b-45bf-eb28-c6f7a7dcddb4"
      },
      "execution_count": 5,
      "outputs": [
        {
          "output_type": "stream",
          "name": "stdout",
          "text": [
            "Model: \"model\"\n",
            "__________________________________________________________________________________________________\n",
            " Layer (type)                Output Shape                 Param #   Connected to                  \n",
            "==================================================================================================\n",
            " input_1 (InputLayer)        [(None, 128, 128, 3)]        0         []                            \n",
            "                                                                                                  \n",
            " conv2d (Conv2D)             (None, 128, 128, 64)         1792      ['input_1[0][0]']             \n",
            "                                                                                                  \n",
            " batch_normalization (Batch  (None, 128, 128, 64)         256       ['conv2d[0][0]']              \n",
            " Normalization)                                                                                   \n",
            "                                                                                                  \n",
            " activation (Activation)     (None, 128, 128, 64)         0         ['batch_normalization[0][0]'] \n",
            "                                                                                                  \n",
            " conv2d_1 (Conv2D)           (None, 128, 128, 64)         36928     ['activation[0][0]']          \n",
            "                                                                                                  \n",
            " batch_normalization_1 (Bat  (None, 128, 128, 64)         256       ['conv2d_1[0][0]']            \n",
            " chNormalization)                                                                                 \n",
            "                                                                                                  \n",
            " activation_1 (Activation)   (None, 128, 128, 64)         0         ['batch_normalization_1[0][0]'\n",
            "                                                                    ]                             \n",
            "                                                                                                  \n",
            " max_pooling2d (MaxPooling2  (None, 64, 64, 64)           0         ['activation_1[0][0]']        \n",
            " D)                                                                                               \n",
            "                                                                                                  \n",
            " conv2d_2 (Conv2D)           (None, 64, 64, 128)          73856     ['max_pooling2d[0][0]']       \n",
            "                                                                                                  \n",
            " batch_normalization_2 (Bat  (None, 64, 64, 128)          512       ['conv2d_2[0][0]']            \n",
            " chNormalization)                                                                                 \n",
            "                                                                                                  \n",
            " activation_2 (Activation)   (None, 64, 64, 128)          0         ['batch_normalization_2[0][0]'\n",
            "                                                                    ]                             \n",
            "                                                                                                  \n",
            " conv2d_3 (Conv2D)           (None, 64, 64, 128)          147584    ['activation_2[0][0]']        \n",
            "                                                                                                  \n",
            " batch_normalization_3 (Bat  (None, 64, 64, 128)          512       ['conv2d_3[0][0]']            \n",
            " chNormalization)                                                                                 \n",
            "                                                                                                  \n",
            " activation_3 (Activation)   (None, 64, 64, 128)          0         ['batch_normalization_3[0][0]'\n",
            "                                                                    ]                             \n",
            "                                                                                                  \n",
            " max_pooling2d_1 (MaxPoolin  (None, 32, 32, 128)          0         ['activation_3[0][0]']        \n",
            " g2D)                                                                                             \n",
            "                                                                                                  \n",
            " conv2d_4 (Conv2D)           (None, 32, 32, 256)          295168    ['max_pooling2d_1[0][0]']     \n",
            "                                                                                                  \n",
            " batch_normalization_4 (Bat  (None, 32, 32, 256)          1024      ['conv2d_4[0][0]']            \n",
            " chNormalization)                                                                                 \n",
            "                                                                                                  \n",
            " activation_4 (Activation)   (None, 32, 32, 256)          0         ['batch_normalization_4[0][0]'\n",
            "                                                                    ]                             \n",
            "                                                                                                  \n",
            " conv2d_5 (Conv2D)           (None, 32, 32, 256)          590080    ['activation_4[0][0]']        \n",
            "                                                                                                  \n",
            " batch_normalization_5 (Bat  (None, 32, 32, 256)          1024      ['conv2d_5[0][0]']            \n",
            " chNormalization)                                                                                 \n",
            "                                                                                                  \n",
            " activation_5 (Activation)   (None, 32, 32, 256)          0         ['batch_normalization_5[0][0]'\n",
            "                                                                    ]                             \n",
            "                                                                                                  \n",
            " max_pooling2d_2 (MaxPoolin  (None, 16, 16, 256)          0         ['activation_5[0][0]']        \n",
            " g2D)                                                                                             \n",
            "                                                                                                  \n",
            " conv2d_6 (Conv2D)           (None, 16, 16, 256)          590080    ['max_pooling2d_2[0][0]']     \n",
            "                                                                                                  \n",
            " batch_normalization_6 (Bat  (None, 16, 16, 256)          1024      ['conv2d_6[0][0]']            \n",
            " chNormalization)                                                                                 \n",
            "                                                                                                  \n",
            " activation_6 (Activation)   (None, 16, 16, 256)          0         ['batch_normalization_6[0][0]'\n",
            "                                                                    ]                             \n",
            "                                                                                                  \n",
            " conv2d_7 (Conv2D)           (None, 16, 16, 256)          590080    ['activation_6[0][0]']        \n",
            "                                                                                                  \n",
            " batch_normalization_7 (Bat  (None, 16, 16, 256)          1024      ['conv2d_7[0][0]']            \n",
            " chNormalization)                                                                                 \n",
            "                                                                                                  \n",
            " activation_7 (Activation)   (None, 16, 16, 256)          0         ['batch_normalization_7[0][0]'\n",
            "                                                                    ]                             \n",
            "                                                                                                  \n",
            " up_sampling2d (UpSampling2  (None, 32, 32, 256)          0         ['activation_7[0][0]']        \n",
            " D)                                                                                               \n",
            "                                                                                                  \n",
            " concatenate (Concatenate)   (None, 32, 32, 512)          0         ['up_sampling2d[0][0]',       \n",
            "                                                                     'activation_5[0][0]']        \n",
            "                                                                                                  \n",
            " conv2d_8 (Conv2D)           (None, 32, 32, 256)          1179904   ['concatenate[0][0]']         \n",
            "                                                                                                  \n",
            " batch_normalization_8 (Bat  (None, 32, 32, 256)          1024      ['conv2d_8[0][0]']            \n",
            " chNormalization)                                                                                 \n",
            "                                                                                                  \n",
            " activation_8 (Activation)   (None, 32, 32, 256)          0         ['batch_normalization_8[0][0]'\n",
            "                                                                    ]                             \n",
            "                                                                                                  \n",
            " conv2d_9 (Conv2D)           (None, 32, 32, 256)          590080    ['activation_8[0][0]']        \n",
            "                                                                                                  \n",
            " batch_normalization_9 (Bat  (None, 32, 32, 256)          1024      ['conv2d_9[0][0]']            \n",
            " chNormalization)                                                                                 \n",
            "                                                                                                  \n",
            " activation_9 (Activation)   (None, 32, 32, 256)          0         ['batch_normalization_9[0][0]'\n",
            "                                                                    ]                             \n",
            "                                                                                                  \n",
            " up_sampling2d_1 (UpSamplin  (None, 64, 64, 256)          0         ['activation_9[0][0]']        \n",
            " g2D)                                                                                             \n",
            "                                                                                                  \n",
            " concatenate_1 (Concatenate  (None, 64, 64, 384)          0         ['up_sampling2d_1[0][0]',     \n",
            " )                                                                   'activation_3[0][0]']        \n",
            "                                                                                                  \n",
            " conv2d_10 (Conv2D)          (None, 64, 64, 128)          442496    ['concatenate_1[0][0]']       \n",
            "                                                                                                  \n",
            " batch_normalization_10 (Ba  (None, 64, 64, 128)          512       ['conv2d_10[0][0]']           \n",
            " tchNormalization)                                                                                \n",
            "                                                                                                  \n",
            " activation_10 (Activation)  (None, 64, 64, 128)          0         ['batch_normalization_10[0][0]\n",
            "                                                                    ']                            \n",
            "                                                                                                  \n",
            " conv2d_11 (Conv2D)          (None, 64, 64, 128)          147584    ['activation_10[0][0]']       \n",
            "                                                                                                  \n",
            " batch_normalization_11 (Ba  (None, 64, 64, 128)          512       ['conv2d_11[0][0]']           \n",
            " tchNormalization)                                                                                \n",
            "                                                                                                  \n",
            " activation_11 (Activation)  (None, 64, 64, 128)          0         ['batch_normalization_11[0][0]\n",
            "                                                                    ']                            \n",
            "                                                                                                  \n",
            " up_sampling2d_2 (UpSamplin  (None, 128, 128, 128)        0         ['activation_11[0][0]']       \n",
            " g2D)                                                                                             \n",
            "                                                                                                  \n",
            " concatenate_2 (Concatenate  (None, 128, 128, 192)        0         ['up_sampling2d_2[0][0]',     \n",
            " )                                                                   'activation_1[0][0]']        \n",
            "                                                                                                  \n",
            " conv2d_12 (Conv2D)          (None, 128, 128, 64)         110656    ['concatenate_2[0][0]']       \n",
            "                                                                                                  \n",
            " batch_normalization_12 (Ba  (None, 128, 128, 64)         256       ['conv2d_12[0][0]']           \n",
            " tchNormalization)                                                                                \n",
            "                                                                                                  \n",
            " activation_12 (Activation)  (None, 128, 128, 64)         0         ['batch_normalization_12[0][0]\n",
            "                                                                    ']                            \n",
            "                                                                                                  \n",
            " conv2d_13 (Conv2D)          (None, 128, 128, 64)         36928     ['activation_12[0][0]']       \n",
            "                                                                                                  \n",
            " batch_normalization_13 (Ba  (None, 128, 128, 64)         256       ['conv2d_13[0][0]']           \n",
            " tchNormalization)                                                                                \n",
            "                                                                                                  \n",
            " activation_13 (Activation)  (None, 128, 128, 64)         0         ['batch_normalization_13[0][0]\n",
            "                                                                    ']                            \n",
            "                                                                                                  \n",
            " conv2d_14 (Conv2D)          (None, 128, 128, 1)          65        ['activation_13[0][0]']       \n",
            "                                                                                                  \n",
            " activation_14 (Activation)  (None, 128, 128, 1)          0         ['conv2d_14[0][0]']           \n",
            "                                                                                                  \n",
            "==================================================================================================\n",
            "Total params: 4842497 (18.47 MB)\n",
            "Trainable params: 4837889 (18.46 MB)\n",
            "Non-trainable params: 4608 (18.00 KB)\n",
            "__________________________________________________________________________________________________\n",
            "Epoch 1/50\n",
            "53/53 [==============================] - ETA: 0s - loss: 0.2654 - acc: 0.9687 - recall: 0.1956 - precision: 0.0911 - iou: 0.0186"
          ]
        },
        {
          "output_type": "stream",
          "name": "stderr",
          "text": [
            "/usr/local/lib/python3.10/dist-packages/keras/src/engine/training.py:3103: UserWarning: You are saving your model as an HDF5 file via `model.save()`. This file format is considered legacy. We recommend using instead the native Keras format, e.g. `model.save('my_model.keras')`.\n",
            "  saving_api.save_model(\n"
          ]
        },
        {
          "output_type": "stream",
          "name": "stdout",
          "text": [
            "\b\b\b\b\b\b\b\b\b\b\b\b\b\b\b\b\b\b\b\b\b\b\b\b\b\b\b\b\b\b\b\b\b\b\b\b\b\b\b\b\b\b\b\b\b\b\b\b\b\b\b\b\b\b\b\b\b\b\b\b\b\b\b\b\b\b\b\b\b\b\b\b\b\b\b\b\b\b\b\b\b\b\b\b\b\b\b\b\b\b\b\b\b\b\b\b\b\b\b\b\b\b\b\b\b\b\b\b\b\b\b\b\b\b\b\b\b\b\b\b\b\b\b\b\b\b\b\b\r53/53 [==============================] - 178s 3s/step - loss: 0.2654 - acc: 0.9687 - recall: 0.1956 - precision: 0.0911 - iou: 0.0186 - val_loss: 0.4261 - val_acc: 0.9892 - val_recall: 0.0000e+00 - val_precision: 0.0000e+00 - val_iou: 0.0109 - lr: 1.0000e-04\n",
            "Epoch 2/50\n",
            "53/53 [==============================] - 8s 158ms/step - loss: 0.1236 - acc: 0.9913 - recall: 0.3694 - precision: 0.7622 - iou: 0.0407 - val_loss: 0.2855 - val_acc: 0.9892 - val_recall: 0.0000e+00 - val_precision: 0.0000e+00 - val_iou: 0.0124 - lr: 1.0000e-04\n",
            "Epoch 3/50\n",
            "53/53 [==============================] - 9s 165ms/step - loss: 0.1022 - acc: 0.9928 - recall: 0.5660 - precision: 0.7728 - iou: 0.0603 - val_loss: 0.1967 - val_acc: 0.9892 - val_recall: 0.0000e+00 - val_precision: 0.0000e+00 - val_iou: 0.0121 - lr: 1.0000e-04\n",
            "Epoch 4/50\n",
            "53/53 [==============================] - 7s 141ms/step - loss: 0.0875 - acc: 0.9939 - recall: 0.6235 - precision: 0.8305 - iou: 0.0767 - val_loss: 0.1699 - val_acc: 0.9892 - val_recall: 0.0000e+00 - val_precision: 0.0000e+00 - val_iou: 0.0172 - lr: 1.0000e-04\n",
            "Epoch 5/50\n",
            "53/53 [==============================] - 8s 158ms/step - loss: 0.0712 - acc: 0.9956 - recall: 0.7858 - precision: 0.8665 - iou: 0.1088 - val_loss: 0.1636 - val_acc: 0.9892 - val_recall: 0.0000e+00 - val_precision: 0.0000e+00 - val_iou: 0.0186 - lr: 1.0000e-04\n",
            "Epoch 6/50\n",
            "53/53 [==============================] - 7s 140ms/step - loss: 0.0629 - acc: 0.9959 - recall: 0.7915 - precision: 0.8911 - iou: 0.1231 - val_loss: 0.1304 - val_acc: 0.9892 - val_recall: 0.0000e+00 - val_precision: 0.0000e+00 - val_iou: 0.0125 - lr: 1.0000e-04\n",
            "Epoch 7/50\n",
            "53/53 [==============================] - 8s 158ms/step - loss: 0.0563 - acc: 0.9962 - recall: 0.8121 - precision: 0.8996 - iou: 0.1381 - val_loss: 0.1072 - val_acc: 0.9893 - val_recall: 0.0120 - val_precision: 0.6914 - val_iou: 0.0118 - lr: 1.0000e-04\n",
            "Epoch 8/50\n",
            "53/53 [==============================] - 8s 150ms/step - loss: 0.0506 - acc: 0.9966 - recall: 0.8387 - precision: 0.9126 - iou: 0.1544 - val_loss: 0.0921 - val_acc: 0.9896 - val_recall: 0.0532 - val_precision: 0.7682 - val_iou: 0.0154 - lr: 1.0000e-04\n",
            "Epoch 9/50\n",
            "53/53 [==============================] - 8s 153ms/step - loss: 0.0468 - acc: 0.9968 - recall: 0.8503 - precision: 0.9191 - iou: 0.1666 - val_loss: 0.0763 - val_acc: 0.9902 - val_recall: 0.0986 - val_precision: 0.9173 - val_iou: 0.0264 - lr: 1.0000e-04\n",
            "Epoch 10/50\n",
            "53/53 [==============================] - 9s 168ms/step - loss: 0.0431 - acc: 0.9968 - recall: 0.8504 - precision: 0.9225 - iou: 0.1788 - val_loss: 0.0624 - val_acc: 0.9916 - val_recall: 0.2560 - val_precision: 0.8803 - val_iou: 0.0622 - lr: 1.0000e-04\n",
            "Epoch 11/50\n",
            "53/53 [==============================] - 7s 137ms/step - loss: 0.0398 - acc: 0.9970 - recall: 0.8627 - precision: 0.9295 - iou: 0.1928 - val_loss: 0.0550 - val_acc: 0.9926 - val_recall: 0.3190 - val_precision: 0.9868 - val_iou: 0.0818 - lr: 1.0000e-04\n",
            "Epoch 12/50\n",
            "53/53 [==============================] - 9s 170ms/step - loss: 0.0371 - acc: 0.9970 - recall: 0.8573 - precision: 0.9290 - iou: 0.2040 - val_loss: 0.0446 - val_acc: 0.9947 - val_recall: 0.5351 - val_precision: 0.9817 - val_iou: 0.1315 - lr: 1.0000e-04\n",
            "Epoch 13/50\n",
            "53/53 [==============================] - 7s 135ms/step - loss: 0.0349 - acc: 0.9969 - recall: 0.8532 - precision: 0.9252 - iou: 0.2144 - val_loss: 0.0423 - val_acc: 0.9952 - val_recall: 0.8121 - val_precision: 0.8090 - val_iou: 0.1750 - lr: 1.0000e-04\n",
            "Epoch 14/50\n",
            "53/53 [==============================] - 8s 143ms/step - loss: 0.0321 - acc: 0.9972 - recall: 0.8734 - precision: 0.9352 - iou: 0.2305 - val_loss: 0.0356 - val_acc: 0.9963 - val_recall: 0.7293 - val_precision: 0.9589 - val_iou: 0.1873 - lr: 1.0000e-04\n",
            "Epoch 15/50\n",
            "53/53 [==============================] - 7s 136ms/step - loss: 0.0299 - acc: 0.9973 - recall: 0.8723 - precision: 0.9432 - iou: 0.2436 - val_loss: 0.0323 - val_acc: 0.9965 - val_recall: 0.8426 - val_precision: 0.8992 - val_iou: 0.2220 - lr: 1.0000e-04\n",
            "Epoch 16/50\n",
            "53/53 [==============================] - 8s 158ms/step - loss: 0.0276 - acc: 0.9975 - recall: 0.8834 - precision: 0.9545 - iou: 0.2599 - val_loss: 0.0301 - val_acc: 0.9968 - val_recall: 0.8139 - val_precision: 0.9354 - val_iou: 0.2305 - lr: 1.0000e-04\n",
            "Epoch 17/50\n",
            "53/53 [==============================] - 8s 151ms/step - loss: 0.0258 - acc: 0.9976 - recall: 0.8940 - precision: 0.9568 - iou: 0.2755 - val_loss: 0.0282 - val_acc: 0.9966 - val_recall: 0.7781 - val_precision: 0.9527 - val_iou: 0.2384 - lr: 1.0000e-04\n",
            "Epoch 18/50\n",
            "53/53 [==============================] - 7s 141ms/step - loss: 0.0242 - acc: 0.9976 - recall: 0.8937 - precision: 0.9599 - iou: 0.2890 - val_loss: 0.0268 - val_acc: 0.9967 - val_recall: 0.7764 - val_precision: 0.9599 - val_iou: 0.2473 - lr: 1.0000e-04\n",
            "Epoch 19/50\n",
            "53/53 [==============================] - 9s 168ms/step - loss: 0.0230 - acc: 0.9976 - recall: 0.8912 - precision: 0.9574 - iou: 0.3011 - val_loss: 0.0253 - val_acc: 0.9968 - val_recall: 0.8262 - val_precision: 0.9365 - val_iou: 0.2681 - lr: 1.0000e-04\n",
            "Epoch 20/50\n",
            "53/53 [==============================] - 9s 164ms/step - loss: 0.0218 - acc: 0.9976 - recall: 0.8892 - precision: 0.9594 - iou: 0.3125 - val_loss: 0.0241 - val_acc: 0.9969 - val_recall: 0.8559 - val_precision: 0.9225 - val_iou: 0.2838 - lr: 1.0000e-04\n",
            "Epoch 21/50\n",
            "53/53 [==============================] - 9s 173ms/step - loss: 0.0205 - acc: 0.9977 - recall: 0.8928 - precision: 0.9633 - iou: 0.3260 - val_loss: 0.0239 - val_acc: 0.9964 - val_recall: 0.8815 - val_precision: 0.8787 - val_iou: 0.2969 - lr: 1.0000e-04\n",
            "Epoch 22/50\n",
            "53/53 [==============================] - 7s 138ms/step - loss: 0.0198 - acc: 0.9976 - recall: 0.8862 - precision: 0.9574 - iou: 0.3354 - val_loss: 0.0218 - val_acc: 0.9968 - val_recall: 0.8204 - val_precision: 0.9401 - val_iou: 0.3026 - lr: 1.0000e-04\n",
            "Epoch 23/50\n",
            "53/53 [==============================] - 8s 145ms/step - loss: 0.0188 - acc: 0.9976 - recall: 0.8905 - precision: 0.9566 - iou: 0.3493 - val_loss: 0.0208 - val_acc: 0.9967 - val_recall: 0.7976 - val_precision: 0.9493 - val_iou: 0.3108 - lr: 1.0000e-04\n",
            "Epoch 24/50\n",
            "53/53 [==============================] - 7s 139ms/step - loss: 0.0179 - acc: 0.9976 - recall: 0.8895 - precision: 0.9580 - iou: 0.3605 - val_loss: 0.0197 - val_acc: 0.9969 - val_recall: 0.7875 - val_precision: 0.9664 - val_iou: 0.3204 - lr: 1.0000e-04\n",
            "Epoch 25/50\n",
            "53/53 [==============================] - 8s 148ms/step - loss: 0.0171 - acc: 0.9976 - recall: 0.8873 - precision: 0.9587 - iou: 0.3720 - val_loss: 0.0194 - val_acc: 0.9968 - val_recall: 0.7494 - val_precision: 0.9812 - val_iou: 0.3223 - lr: 1.0000e-04\n",
            "Epoch 26/50\n",
            "53/53 [==============================] - 8s 143ms/step - loss: 0.0163 - acc: 0.9976 - recall: 0.8913 - precision: 0.9577 - iou: 0.3839 - val_loss: 0.0196 - val_acc: 0.9965 - val_recall: 0.7216 - val_precision: 0.9806 - val_iou: 0.3219 - lr: 1.0000e-04\n",
            "Epoch 27/50\n",
            "53/53 [==============================] - 8s 153ms/step - loss: 0.0155 - acc: 0.9976 - recall: 0.8945 - precision: 0.9589 - iou: 0.3966 - val_loss: 0.0196 - val_acc: 0.9962 - val_recall: 0.6697 - val_precision: 0.9941 - val_iou: 0.3159 - lr: 1.0000e-04\n",
            "Epoch 28/50\n",
            "53/53 [==============================] - 8s 160ms/step - loss: 0.0150 - acc: 0.9976 - recall: 0.8880 - precision: 0.9576 - iou: 0.4059 - val_loss: 0.0171 - val_acc: 0.9967 - val_recall: 0.8297 - val_precision: 0.9246 - val_iou: 0.3694 - lr: 1.0000e-04\n",
            "Epoch 29/50\n",
            "53/53 [==============================] - 7s 137ms/step - loss: 0.0140 - acc: 0.9977 - recall: 0.8960 - precision: 0.9637 - iou: 0.4220 - val_loss: 0.0154 - val_acc: 0.9971 - val_recall: 0.8257 - val_precision: 0.9646 - val_iou: 0.3869 - lr: 1.0000e-04\n",
            "Epoch 30/50\n",
            "53/53 [==============================] - 9s 180ms/step - loss: 0.0132 - acc: 0.9978 - recall: 0.8978 - precision: 0.9698 - iou: 0.4357 - val_loss: 0.0150 - val_acc: 0.9971 - val_recall: 0.9173 - val_precision: 0.9125 - val_iou: 0.4116 - lr: 1.0000e-04\n",
            "Epoch 31/50\n",
            "53/53 [==============================] - 7s 139ms/step - loss: 0.0125 - acc: 0.9979 - recall: 0.9077 - precision: 0.9694 - iou: 0.4515 - val_loss: 0.0140 - val_acc: 0.9973 - val_recall: 0.8466 - val_precision: 0.9630 - val_iou: 0.4141 - lr: 1.0000e-04\n",
            "Epoch 32/50\n",
            "53/53 [==============================] - 7s 140ms/step - loss: 0.0118 - acc: 0.9980 - recall: 0.9118 - precision: 0.9767 - iou: 0.4666 - val_loss: 0.0136 - val_acc: 0.9972 - val_recall: 0.8252 - val_precision: 0.9705 - val_iou: 0.4240 - lr: 1.0000e-04\n",
            "Epoch 33/50\n",
            "53/53 [==============================] - 7s 137ms/step - loss: 0.0112 - acc: 0.9981 - recall: 0.9149 - precision: 0.9779 - iou: 0.4806 - val_loss: 0.0132 - val_acc: 0.9972 - val_recall: 0.8090 - val_precision: 0.9748 - val_iou: 0.4316 - lr: 1.0000e-04\n",
            "Epoch 34/50\n",
            "53/53 [==============================] - 8s 149ms/step - loss: 0.0107 - acc: 0.9981 - recall: 0.9144 - precision: 0.9804 - iou: 0.4925 - val_loss: 0.0125 - val_acc: 0.9973 - val_recall: 0.8302 - val_precision: 0.9676 - val_iou: 0.4514 - lr: 1.0000e-04\n",
            "Epoch 35/50\n",
            "53/53 [==============================] - 8s 147ms/step - loss: 0.0102 - acc: 0.9981 - recall: 0.9151 - precision: 0.9809 - iou: 0.5043 - val_loss: 0.0118 - val_acc: 0.9974 - val_recall: 0.8836 - val_precision: 0.9538 - val_iou: 0.4735 - lr: 1.0000e-04\n",
            "Epoch 36/50\n",
            "53/53 [==============================] - 8s 150ms/step - loss: 0.0098 - acc: 0.9981 - recall: 0.9155 - precision: 0.9819 - iou: 0.5158 - val_loss: 0.0118 - val_acc: 0.9973 - val_recall: 0.9007 - val_precision: 0.9329 - val_iou: 0.4862 - lr: 1.0000e-04\n",
            "Epoch 37/50\n",
            "53/53 [==============================] - 9s 178ms/step - loss: 0.0095 - acc: 0.9981 - recall: 0.9137 - precision: 0.9798 - iou: 0.5246 - val_loss: 0.0112 - val_acc: 0.9974 - val_recall: 0.8741 - val_precision: 0.9522 - val_iou: 0.4927 - lr: 1.0000e-04\n",
            "Epoch 38/50\n",
            "53/53 [==============================] - 7s 136ms/step - loss: 0.0093 - acc: 0.9980 - recall: 0.9143 - precision: 0.9765 - iou: 0.5331 - val_loss: 0.0117 - val_acc: 0.9972 - val_recall: 0.7924 - val_precision: 0.9827 - val_iou: 0.4782 - lr: 1.0000e-04\n",
            "Epoch 39/50\n",
            "53/53 [==============================] - 9s 167ms/step - loss: 0.0090 - acc: 0.9980 - recall: 0.9157 - precision: 0.9765 - iou: 0.5429 - val_loss: 0.0137 - val_acc: 0.9965 - val_recall: 0.7015 - val_precision: 0.9932 - val_iou: 0.4406 - lr: 1.0000e-04\n",
            "Epoch 40/50\n",
            "53/53 [==============================] - 7s 137ms/step - loss: 0.0088 - acc: 0.9980 - recall: 0.9105 - precision: 0.9761 - iou: 0.5501 - val_loss: 0.0103 - val_acc: 0.9974 - val_recall: 0.8436 - val_precision: 0.9704 - val_iou: 0.5121 - lr: 1.0000e-04\n",
            "Epoch 41/50\n",
            "53/53 [==============================] - 8s 144ms/step - loss: 0.0085 - acc: 0.9980 - recall: 0.9067 - precision: 0.9780 - iou: 0.5583 - val_loss: 0.0103 - val_acc: 0.9973 - val_recall: 0.9088 - val_precision: 0.9304 - val_iou: 0.5226 - lr: 1.0000e-04\n",
            "Epoch 42/50\n",
            "53/53 [==============================] - 7s 136ms/step - loss: 0.0082 - acc: 0.9980 - recall: 0.9115 - precision: 0.9767 - iou: 0.5684 - val_loss: 0.0095 - val_acc: 0.9975 - val_recall: 0.8685 - val_precision: 0.9664 - val_iou: 0.5392 - lr: 1.0000e-04\n",
            "Epoch 43/50\n",
            "53/53 [==============================] - 8s 145ms/step - loss: 0.0077 - acc: 0.9981 - recall: 0.9187 - precision: 0.9800 - iou: 0.5833 - val_loss: 0.0101 - val_acc: 0.9973 - val_recall: 0.8107 - val_precision: 0.9788 - val_iou: 0.5240 - lr: 1.0000e-04\n",
            "Epoch 44/50\n",
            "53/53 [==============================] - 7s 137ms/step - loss: 0.0074 - acc: 0.9981 - recall: 0.9171 - precision: 0.9826 - iou: 0.5934 - val_loss: 0.0096 - val_acc: 0.9973 - val_recall: 0.8176 - val_precision: 0.9788 - val_iou: 0.5357 - lr: 1.0000e-04\n",
            "Epoch 45/50\n",
            "53/53 [==============================] - 8s 157ms/step - loss: 0.0072 - acc: 0.9981 - recall: 0.9148 - precision: 0.9827 - iou: 0.6006 - val_loss: 0.0087 - val_acc: 0.9975 - val_recall: 0.8685 - val_precision: 0.9671 - val_iou: 0.5586 - lr: 1.0000e-04\n",
            "Epoch 46/50\n",
            "53/53 [==============================] - 8s 147ms/step - loss: 0.0070 - acc: 0.9981 - recall: 0.9185 - precision: 0.9820 - iou: 0.6092 - val_loss: 0.0094 - val_acc: 0.9973 - val_recall: 0.8285 - val_precision: 0.9721 - val_iou: 0.5476 - lr: 1.0000e-04\n",
            "Epoch 47/50\n",
            "53/53 [==============================] - 8s 155ms/step - loss: 0.0067 - acc: 0.9981 - recall: 0.9186 - precision: 0.9827 - iou: 0.6183 - val_loss: 0.0088 - val_acc: 0.9974 - val_recall: 0.8376 - val_precision: 0.9739 - val_iou: 0.5663 - lr: 1.0000e-04\n",
            "Epoch 48/50\n",
            "53/53 [==============================] - 9s 162ms/step - loss: 0.0065 - acc: 0.9982 - recall: 0.9202 - precision: 0.9831 - iou: 0.6273 - val_loss: 0.0094 - val_acc: 0.9971 - val_recall: 0.7981 - val_precision: 0.9763 - val_iou: 0.5563 - lr: 1.0000e-04\n",
            "Epoch 49/50\n",
            "53/53 [==============================] - 7s 139ms/step - loss: 0.0064 - acc: 0.9982 - recall: 0.9127 - precision: 0.9875 - iou: 0.6313 - val_loss: 0.0080 - val_acc: 0.9976 - val_recall: 0.8758 - val_precision: 0.9685 - val_iou: 0.5902 - lr: 1.0000e-05\n",
            "Epoch 50/50\n",
            "53/53 [==============================] - 9s 167ms/step - loss: 0.0061 - acc: 0.9983 - recall: 0.9245 - precision: 0.9890 - iou: 0.6394 - val_loss: 0.0078 - val_acc: 0.9976 - val_recall: 0.8802 - val_precision: 0.9693 - val_iou: 0.5963 - lr: 1.0000e-05\n",
            "7/7 [==============================] - 18s 2s/step - loss: 0.0084 - acc: 0.9975 - recall: 0.8844 - precision: 0.9695 - iou: 0.6356\n"
          ]
        },
        {
          "output_type": "execute_result",
          "data": {
            "text/plain": [
              "[0.008355269208550453,\n",
              " 0.9974745512008667,\n",
              " 0.8843879103660583,\n",
              " 0.9695421457290649,\n",
              " 0.6356183290481567]"
            ]
          },
          "metadata": {},
          "execution_count": 5
        }
      ]
    },
    {
      "cell_type": "code",
      "source": [
        "def read_image(PATH):\n",
        "    x = cv2.imread(PATH, cv2.IMREAD_COLOR)\n",
        "    x = cv2.resize(x, (128, 128))\n",
        "    x = x / 255.0\n",
        "    return x\n",
        "\n",
        "def read_mask(PATH):\n",
        "    x = cv2.imread(PATH, cv2.IMREAD_GRAYSCALE)\n",
        "    x = cv2.resize(x, (128, 128))\n",
        "    x = x / 255.0\n",
        "    x = np.expand_dims(x, axis=-1)\n",
        "    return x\n",
        "\n",
        "def mask_parse(mask):\n",
        "    mask = np.squeeze(mask)\n",
        "    mask = np.stack([mask] * 3, axis=-1)\n",
        "    return mask"
      ],
      "metadata": {
        "id": "F3qWMSKp1fvD"
      },
      "execution_count": 6,
      "outputs": []
    },
    {
      "cell_type": "code",
      "source": [
        "\n",
        "\n",
        "\n",
        "# Load the model for evaluation\n",
        "model = tf.keras.models.load_model(\"model.h5\", custom_objects={'iou': iou})\n",
        "\n",
        "# Create a directory to save the results\n",
        "if not os.path.exists(\"Results\"):\n",
        "    os.makedirs(\"Results\")\n",
        "\n",
        "# Make predictions and visualize results\n",
        "def predict_and_save_results(model, test_x, test_y):\n",
        "    for i, (x_path, y_path) in tqdm(enumerate(zip(test_x, test_y)), total=len(test_x)):\n",
        "        x = read_image(x_path)\n",
        "        y = read_mask(y_path)\n",
        "        y_pred = model.predict(np.expand_dims(x, axis=0))[0]\n",
        "        y_pred = y_pred > 0.5\n",
        "\n",
        "        h, w, _ = x.shape\n",
        "        white_line = np.ones((h, 10, 3)) * 255.0\n",
        "        all_images = [x * 255.0, white_line, mask_parse(y) * 255.0, white_line, mask_parse(y_pred) * 255.0]\n",
        "        image = np.concatenate(all_images, axis=1)\n",
        "        cv2.imwrite(f\"Results/{i}.png\", image)\n",
        "\n",
        "# Predict and save results\n",
        "predict_and_save_results(model, test_x, test_y)\n"
      ],
      "metadata": {
        "colab": {
          "base_uri": "https://localhost:8080/"
        },
        "id": "pQmLjqlQ1k-6",
        "outputId": "d2bfcde5-b560-4d81-9a93-38167fc69df0"
      },
      "execution_count": 7,
      "outputs": [
        {
          "output_type": "stream",
          "name": "stderr",
          "text": [
            "\r  0%|          | 0/53 [00:00<?, ?it/s]"
          ]
        },
        {
          "output_type": "stream",
          "name": "stdout",
          "text": [
            "1/1 [==============================] - 2s 2s/step\n"
          ]
        },
        {
          "output_type": "stream",
          "name": "stderr",
          "text": [
            "\r  2%|▏         | 1/53 [00:01<01:35,  1.84s/it]"
          ]
        },
        {
          "output_type": "stream",
          "name": "stdout",
          "text": [
            "1/1 [==============================] - 0s 27ms/step\n"
          ]
        },
        {
          "output_type": "stream",
          "name": "stderr",
          "text": [
            "\r  4%|▍         | 2/53 [00:01<00:42,  1.20it/s]"
          ]
        },
        {
          "output_type": "stream",
          "name": "stdout",
          "text": [
            "1/1 [==============================] - 0s 25ms/step\n"
          ]
        },
        {
          "output_type": "stream",
          "name": "stderr",
          "text": [
            "\r  6%|▌         | 3/53 [00:02<00:25,  1.99it/s]"
          ]
        },
        {
          "output_type": "stream",
          "name": "stdout",
          "text": [
            "1/1 [==============================] - 0s 30ms/step\n"
          ]
        },
        {
          "output_type": "stream",
          "name": "stderr",
          "text": [
            "\r  8%|▊         | 4/53 [00:02<00:17,  2.87it/s]"
          ]
        },
        {
          "output_type": "stream",
          "name": "stdout",
          "text": [
            "1/1 [==============================] - 0s 28ms/step\n"
          ]
        },
        {
          "output_type": "stream",
          "name": "stderr",
          "text": [
            "\r  9%|▉         | 5/53 [00:02<00:12,  3.79it/s]"
          ]
        },
        {
          "output_type": "stream",
          "name": "stdout",
          "text": [
            "1/1 [==============================] - 0s 29ms/step\n"
          ]
        },
        {
          "output_type": "stream",
          "name": "stderr",
          "text": [
            "\r 11%|█▏        | 6/53 [00:02<00:10,  4.65it/s]"
          ]
        },
        {
          "output_type": "stream",
          "name": "stdout",
          "text": [
            "1/1 [==============================] - 0s 37ms/step\n"
          ]
        },
        {
          "output_type": "stream",
          "name": "stderr",
          "text": [
            "\r 13%|█▎        | 7/53 [00:02<00:08,  5.28it/s]"
          ]
        },
        {
          "output_type": "stream",
          "name": "stdout",
          "text": [
            "1/1 [==============================] - 0s 30ms/step\n"
          ]
        },
        {
          "output_type": "stream",
          "name": "stderr",
          "text": [
            "\r 15%|█▌        | 8/53 [00:02<00:07,  6.09it/s]"
          ]
        },
        {
          "output_type": "stream",
          "name": "stdout",
          "text": [
            "1/1 [==============================] - 0s 28ms/step\n"
          ]
        },
        {
          "output_type": "stream",
          "name": "stderr",
          "text": [
            "\r 17%|█▋        | 9/53 [00:02<00:06,  6.60it/s]"
          ]
        },
        {
          "output_type": "stream",
          "name": "stdout",
          "text": [
            "1/1 [==============================] - 0s 32ms/step\n"
          ]
        },
        {
          "output_type": "stream",
          "name": "stderr",
          "text": [
            "\r 19%|█▉        | 10/53 [00:02<00:06,  7.16it/s]"
          ]
        },
        {
          "output_type": "stream",
          "name": "stdout",
          "text": [
            "1/1 [==============================] - 0s 34ms/step\n"
          ]
        },
        {
          "output_type": "stream",
          "name": "stderr",
          "text": [
            "\r 21%|██        | 11/53 [00:03<00:05,  7.24it/s]"
          ]
        },
        {
          "output_type": "stream",
          "name": "stdout",
          "text": [
            "1/1 [==============================] - 0s 32ms/step\n"
          ]
        },
        {
          "output_type": "stream",
          "name": "stderr",
          "text": [
            "\r 23%|██▎       | 12/53 [00:03<00:05,  7.76it/s]"
          ]
        },
        {
          "output_type": "stream",
          "name": "stdout",
          "text": [
            "1/1 [==============================] - 0s 40ms/step\n"
          ]
        },
        {
          "output_type": "stream",
          "name": "stderr",
          "text": [
            "\r 25%|██▍       | 13/53 [00:03<00:05,  7.60it/s]"
          ]
        },
        {
          "output_type": "stream",
          "name": "stdout",
          "text": [
            "1/1 [==============================] - 0s 32ms/step\n"
          ]
        },
        {
          "output_type": "stream",
          "name": "stderr",
          "text": [
            "\r 26%|██▋       | 14/53 [00:03<00:05,  7.74it/s]"
          ]
        },
        {
          "output_type": "stream",
          "name": "stdout",
          "text": [
            "1/1 [==============================] - 0s 33ms/step\n"
          ]
        },
        {
          "output_type": "stream",
          "name": "stderr",
          "text": [
            "\r 28%|██▊       | 15/53 [00:03<00:04,  7.92it/s]"
          ]
        },
        {
          "output_type": "stream",
          "name": "stdout",
          "text": [
            "1/1 [==============================] - 0s 26ms/step\n"
          ]
        },
        {
          "output_type": "stream",
          "name": "stderr",
          "text": [
            "\r 30%|███       | 16/53 [00:03<00:04,  7.60it/s]"
          ]
        },
        {
          "output_type": "stream",
          "name": "stdout",
          "text": [
            "1/1 [==============================] - 0s 19ms/step\n",
            "1/1 [==============================] - 0s 19ms/step\n"
          ]
        },
        {
          "output_type": "stream",
          "name": "stderr",
          "text": [
            "\r 34%|███▍      | 18/53 [00:03<00:03,  9.03it/s]"
          ]
        },
        {
          "output_type": "stream",
          "name": "stdout",
          "text": [
            "1/1 [==============================] - 0s 18ms/step\n",
            "1/1 [==============================] - 0s 19ms/step\n"
          ]
        },
        {
          "output_type": "stream",
          "name": "stderr",
          "text": [
            "\r 38%|███▊      | 20/53 [00:04<00:03,  9.71it/s]"
          ]
        },
        {
          "output_type": "stream",
          "name": "stdout",
          "text": [
            "1/1 [==============================] - 0s 19ms/step\n"
          ]
        },
        {
          "output_type": "stream",
          "name": "stderr",
          "text": [
            "\r 40%|███▉      | 21/53 [00:04<00:03,  9.61it/s]"
          ]
        },
        {
          "output_type": "stream",
          "name": "stdout",
          "text": [
            "1/1 [==============================] - 0s 18ms/step\n",
            "1/1 [==============================] - 0s 22ms/step\n"
          ]
        },
        {
          "output_type": "stream",
          "name": "stderr",
          "text": [
            "\r 43%|████▎     | 23/53 [00:04<00:02, 10.24it/s]"
          ]
        },
        {
          "output_type": "stream",
          "name": "stdout",
          "text": [
            "1/1 [==============================] - 0s 18ms/step\n",
            "1/1 [==============================] - 0s 22ms/step\n"
          ]
        },
        {
          "output_type": "stream",
          "name": "stderr",
          "text": [
            "\r 47%|████▋     | 25/53 [00:04<00:02, 10.79it/s]"
          ]
        },
        {
          "output_type": "stream",
          "name": "stdout",
          "text": [
            "1/1 [==============================] - 0s 22ms/step\n",
            "1/1 [==============================] - 0s 18ms/step\n"
          ]
        },
        {
          "output_type": "stream",
          "name": "stderr",
          "text": [
            "\r 51%|█████     | 27/53 [00:04<00:02, 10.91it/s]"
          ]
        },
        {
          "output_type": "stream",
          "name": "stdout",
          "text": [
            "1/1 [==============================] - 0s 18ms/step\n",
            "1/1 [==============================] - 0s 18ms/step\n"
          ]
        },
        {
          "output_type": "stream",
          "name": "stderr",
          "text": [
            "\r 55%|█████▍    | 29/53 [00:04<00:02, 11.41it/s]"
          ]
        },
        {
          "output_type": "stream",
          "name": "stdout",
          "text": [
            "1/1 [==============================] - 0s 19ms/step\n",
            "1/1 [==============================] - 0s 27ms/step\n"
          ]
        },
        {
          "output_type": "stream",
          "name": "stderr",
          "text": [
            "\r 58%|█████▊    | 31/53 [00:04<00:01, 11.39it/s]"
          ]
        },
        {
          "output_type": "stream",
          "name": "stdout",
          "text": [
            "1/1 [==============================] - 0s 18ms/step\n",
            "1/1 [==============================] - 0s 18ms/step\n"
          ]
        },
        {
          "output_type": "stream",
          "name": "stderr",
          "text": [
            "\r 62%|██████▏   | 33/53 [00:05<00:01, 11.65it/s]"
          ]
        },
        {
          "output_type": "stream",
          "name": "stdout",
          "text": [
            "1/1 [==============================] - 0s 18ms/step\n",
            "1/1 [==============================] - 0s 17ms/step\n"
          ]
        },
        {
          "output_type": "stream",
          "name": "stderr",
          "text": [
            "\r 66%|██████▌   | 35/53 [00:05<00:01, 11.90it/s]"
          ]
        },
        {
          "output_type": "stream",
          "name": "stdout",
          "text": [
            "1/1 [==============================] - 0s 21ms/step\n",
            "1/1 [==============================] - 0s 23ms/step\n"
          ]
        },
        {
          "output_type": "stream",
          "name": "stderr",
          "text": [
            "\r 70%|██████▉   | 37/53 [00:05<00:01, 11.75it/s]"
          ]
        },
        {
          "output_type": "stream",
          "name": "stdout",
          "text": [
            "1/1 [==============================] - 0s 21ms/step\n",
            "1/1 [==============================] - 0s 18ms/step\n"
          ]
        },
        {
          "output_type": "stream",
          "name": "stderr",
          "text": [
            "\r 74%|███████▎  | 39/53 [00:05<00:01, 11.50it/s]"
          ]
        },
        {
          "output_type": "stream",
          "name": "stdout",
          "text": [
            "1/1 [==============================] - 0s 18ms/step\n",
            "1/1 [==============================] - 0s 17ms/step\n"
          ]
        },
        {
          "output_type": "stream",
          "name": "stderr",
          "text": [
            "\r 77%|███████▋  | 41/53 [00:05<00:01, 11.55it/s]"
          ]
        },
        {
          "output_type": "stream",
          "name": "stdout",
          "text": [
            "1/1 [==============================] - 0s 19ms/step\n",
            "1/1 [==============================] - 0s 20ms/step\n"
          ]
        },
        {
          "output_type": "stream",
          "name": "stderr",
          "text": [
            "\r 81%|████████  | 43/53 [00:06<00:00, 11.05it/s]"
          ]
        },
        {
          "output_type": "stream",
          "name": "stdout",
          "text": [
            "1/1 [==============================] - 0s 19ms/step\n",
            "1/1 [==============================] - 0s 19ms/step\n"
          ]
        },
        {
          "output_type": "stream",
          "name": "stderr",
          "text": [
            "\r 85%|████████▍ | 45/53 [00:06<00:00, 11.37it/s]"
          ]
        },
        {
          "output_type": "stream",
          "name": "stdout",
          "text": [
            "1/1 [==============================] - 0s 17ms/step\n",
            "1/1 [==============================] - 0s 18ms/step\n"
          ]
        },
        {
          "output_type": "stream",
          "name": "stderr",
          "text": [
            "\r 89%|████████▊ | 47/53 [00:06<00:00, 11.57it/s]"
          ]
        },
        {
          "output_type": "stream",
          "name": "stdout",
          "text": [
            "1/1 [==============================] - 0s 20ms/step\n",
            "1/1 [==============================] - 0s 22ms/step\n"
          ]
        },
        {
          "output_type": "stream",
          "name": "stderr",
          "text": [
            "\r 92%|█████████▏| 49/53 [00:06<00:00, 11.38it/s]"
          ]
        },
        {
          "output_type": "stream",
          "name": "stdout",
          "text": [
            "1/1 [==============================] - 0s 18ms/step\n",
            "1/1 [==============================] - 0s 18ms/step\n"
          ]
        },
        {
          "output_type": "stream",
          "name": "stderr",
          "text": [
            "\r 96%|█████████▌| 51/53 [00:06<00:00, 11.71it/s]"
          ]
        },
        {
          "output_type": "stream",
          "name": "stdout",
          "text": [
            "1/1 [==============================] - 0s 20ms/step\n",
            "1/1 [==============================] - 0s 18ms/step\n"
          ]
        },
        {
          "output_type": "stream",
          "name": "stderr",
          "text": [
            "100%|██████████| 53/53 [00:06<00:00,  7.68it/s]\n"
          ]
        }
      ]
    },
    {
      "cell_type": "code",
      "source": [
        "\n",
        "from skimage import color\n",
        "from skimage.io import imread\n"
      ],
      "metadata": {
        "id": "liSwuqoX12n-"
      },
      "execution_count": 8,
      "outputs": []
    },
    {
      "cell_type": "code",
      "source": [
        "class Evaluate(object):\n",
        "    def __init__(self, pred_image, gt_image):\n",
        "        self.pred_image = pred_image\n",
        "        self.gt_image = gt_image\n",
        "\n",
        "    def cm_terms(self):\n",
        "        n11 = n12 = n21 = n22 = 0\n",
        "        rows, cols,_ = self.gt_image.shape\n",
        "\n",
        "        for i in range(rows):\n",
        "            for j in range(cols):\n",
        "                if self.gt_image[i, j] == 0 and self.pred_image[i, j] == 0:\n",
        "                    n11 += 1\n",
        "                if self.gt_image[i, j] == 0 and self.pred_image[i, j] >= 1:\n",
        "                    n12 += 1\n",
        "                if self.gt_image[i, j] >= 1 and self.pred_image[i, j] == 0:\n",
        "                    n21 += 1\n",
        "                if self.gt_image[i, j] >= 1 and self.pred_image[i, j] >= 1:\n",
        "                    n22 += 1\n",
        "\n",
        "        return n11, n12, n21, n22\n",
        "\n",
        "    def pixel_accuracy(self):\n",
        "        n11, n12, n21, n22 = self.cm_terms()\n",
        "        t1 = n11 + n12\n",
        "        t2 = n21 + n22\n",
        "\n",
        "        if (t1 + t2) == 0:\n",
        "            pa = 0\n",
        "        else:\n",
        "            pa = float(n11 + n22) / float(t1 + t2)\n",
        "        return pa * 100\n",
        "\n",
        "    def mean_accuracy(self):\n",
        "        n11, n12, n21, n22 = self.cm_terms()\n",
        "        t1 = n11 + n12\n",
        "        t2 = n21 + n22\n",
        "\n",
        "        if t1 == 0 and t2 != 0:\n",
        "            ma = float(n22) / float(t2)\n",
        "        elif t1 != 0 and t2 == 0:\n",
        "            ma = float(n11) / float(t1)\n",
        "        elif t1 == 0 and t2 == 0:\n",
        "            ma = 0\n",
        "        else:\n",
        "            ma = (float(n11) / float(t1) + float(n22) / float(t2)) / 2\n",
        "        return ma * 100\n",
        "\n",
        "    def IOU(self):\n",
        "        intersection = np.logical_and(self.gt_image, self.pred_image)\n",
        "        union = np.logical_or(self.gt_image, self.pred_image)\n",
        "        iou_score = np.sum(intersection) / np.sum(union)\n",
        "        return iou_score * 100\n",
        "\n",
        "    def mean_IOU(self):\n",
        "        n11, n12, n21, n22 = self.cm_terms()\n",
        "        t1 = n11 + n12\n",
        "        t2 = n21 + n22\n",
        "\n",
        "        if (t1 + n21) == 0 and (t2 + n12) != 0:\n",
        "            mIOU = float(n22) / float(t2 + n12)\n",
        "        elif (t1 + n21) != 0 and (t2 + n12) == 0:\n",
        "            mIOU = float(n11) / float(t1 + n21)\n",
        "        else:\n",
        "            mIOU = (float(n11) / float(t1 + n21) + float(n22) / float(t2 + n12)) / 2\n",
        "        return mIOU * 100\n",
        "\n",
        "    def fweight_IOU(self):\n",
        "        n11, n12, n21, n22 = self.cm_terms()\n",
        "        t1 = n11 + n12\n",
        "        t2 = n21 + n22\n",
        "        total_pixels = n11 + n12 + n21 + n22\n",
        "\n",
        "        if total_pixels == 0:\n",
        "            return 0\n",
        "\n",
        "        fwIOU = 0\n",
        "        if (n11 + n12 + n21) != 0:\n",
        "            fwIOU += (t1 * n11) / float(n11 + n12 + n21)\n",
        "        if (n12 + n21 + n22) != 0:\n",
        "            fwIOU += (t2 * n22) / float(n12 + n21 + n22)\n",
        "\n",
        "        fwIOU /= total_pixels\n",
        "\n",
        "        return fwIOU * 100\n"
      ],
      "metadata": {
        "id": "iaIdD9pk15BU"
      },
      "execution_count": 13,
      "outputs": []
    },
    {
      "cell_type": "code",
      "source": [
        "# After training and testing your model, load and evaluate using the Evaluate class\n",
        "if __name__ == \"__main__\":\n",
        "    # Load test data and model\n",
        "\n",
        "    model = tf.keras.models.load_model(\"model.h5\", custom_objects={'iou': iou})\n",
        "\n",
        "    # Initialize lists to store evaluation results\n",
        "    pa_array = []\n",
        "    ma_array = []\n",
        "    IOU_array = []\n",
        "    mIOU_array = []\n",
        "    fwIOU_array = []\n",
        "\n",
        "    # Evaluate each test image\n",
        "    for i, (x_path, y_path) in tqdm(enumerate(zip(test_x, test_y)), total=len(test_x)):\n",
        "        x = read_image(x_path)\n",
        "        y = read_mask(y_path)\n",
        "        y_pred = model.predict(np.expand_dims(x, axis=0))[0]\n",
        "        y_pred = y_pred > 0.5\n",
        "        y_pred = y_pred.astype(np.uint8)\n",
        "        y = y.astype(np.uint8)\n",
        "\n",
        "        # Convert to grayscale\n",
        "        y_true_gray = y\n",
        "        y_pred_gray = y_pred\n",
        "\n",
        "        # Evaluate metrics\n",
        "        evaluator = Evaluate(y_pred_gray, y_true_gray)\n",
        "        pa = evaluator.pixel_accuracy()\n",
        "        ma = evaluator.mean_accuracy()\n",
        "        IOU = evaluator.IOU()\n",
        "        mIOU = evaluator.mean_IOU()\n",
        "        fwIOU = evaluator.fweight_IOU()\n",
        "\n",
        "        # Append results to arrays\n",
        "        pa_array.append(pa)\n",
        "        ma_array.append(ma)\n",
        "        IOU_array.append(IOU)\n",
        "        mIOU_array.append(mIOU)\n",
        "        fwIOU_array.append(fwIOU)\n",
        "\n",
        "    # Calculate average metrics\n",
        "    avg_pa = np.mean(pa_array)\n",
        "    avg_ma = np.mean(ma_array)\n",
        "    avg_IOU = np.mean(IOU_array)\n",
        "    avg_mIOU = np.mean(mIOU_array)\n",
        "    avg_fwIOU = np.mean(fwIOU_array)\n",
        "\n",
        "    # Print and save results\n",
        "    print(\"Average Pixel Accuracy (%): \", avg_pa)\n",
        "    print(\"Average Mean Accuracy (%): \", avg_ma)\n",
        "    print(\"Average Mean IoU (%): \", avg_mIOU)\n",
        "    print(\"Average FWIoU (%): \", avg_fwIOU)\n",
        "\n",
        "    # Write results to a file\n",
        "    with open('evaluation_results.txt', 'w') as f:\n",
        "        f.write(f\"Average Pixel Accuracy (%): {avg_pa}\\n\")\n",
        "        f.write(f\"Average Mean Accuracy (%): {avg_ma}\\n\")\n",
        "        f.write(f\"Average Mean IoU (%): {avg_mIOU}\\n\")\n",
        "        f.write(f\"Average FWIoU (%): {avg_fwIOU}\\n\")\n"
      ],
      "metadata": {
        "colab": {
          "base_uri": "https://localhost:8080/"
        },
        "id": "ydtgXyFY172R",
        "outputId": "bddd12f4-536e-473b-9d1f-075098137c75"
      },
      "execution_count": 14,
      "outputs": [
        {
          "output_type": "stream",
          "name": "stderr",
          "text": [
            "\r  0%|          | 0/53 [00:00<?, ?it/s]"
          ]
        },
        {
          "output_type": "stream",
          "name": "stdout",
          "text": [
            "1/1 [==============================] - 0s 265ms/step\n"
          ]
        },
        {
          "output_type": "stream",
          "name": "stderr",
          "text": [
            "\r  2%|▏         | 1/53 [00:01<01:05,  1.26s/it]"
          ]
        },
        {
          "output_type": "stream",
          "name": "stdout",
          "text": [
            "1/1 [==============================] - 0s 27ms/step\n"
          ]
        },
        {
          "output_type": "stream",
          "name": "stderr",
          "text": [
            "\r  4%|▍         | 2/53 [00:03<01:18,  1.55s/it]"
          ]
        },
        {
          "output_type": "stream",
          "name": "stdout",
          "text": [
            "1/1 [==============================] - 0s 26ms/step\n"
          ]
        },
        {
          "output_type": "stream",
          "name": "stderr",
          "text": [
            "\r  6%|▌         | 3/53 [00:04<01:23,  1.67s/it]"
          ]
        },
        {
          "output_type": "stream",
          "name": "stdout",
          "text": [
            "1/1 [==============================] - 0s 32ms/step\n"
          ]
        },
        {
          "output_type": "stream",
          "name": "stderr",
          "text": [
            "\r  8%|▊         | 4/53 [00:05<01:11,  1.45s/it]"
          ]
        },
        {
          "output_type": "stream",
          "name": "stdout",
          "text": [
            "1/1 [==============================] - 0s 18ms/step\n"
          ]
        },
        {
          "output_type": "stream",
          "name": "stderr",
          "text": [
            "\r  9%|▉         | 5/53 [00:06<01:02,  1.29s/it]"
          ]
        },
        {
          "output_type": "stream",
          "name": "stdout",
          "text": [
            "1/1 [==============================] - 0s 18ms/step\n"
          ]
        },
        {
          "output_type": "stream",
          "name": "stderr",
          "text": [
            "\r 11%|█▏        | 6/53 [00:07<00:56,  1.20s/it]"
          ]
        },
        {
          "output_type": "stream",
          "name": "stdout",
          "text": [
            "1/1 [==============================] - 0s 18ms/step\n"
          ]
        },
        {
          "output_type": "stream",
          "name": "stderr",
          "text": [
            "\r 13%|█▎        | 7/53 [00:08<00:52,  1.14s/it]"
          ]
        },
        {
          "output_type": "stream",
          "name": "stdout",
          "text": [
            "1/1 [==============================] - 0s 18ms/step\n"
          ]
        },
        {
          "output_type": "stream",
          "name": "stderr",
          "text": [
            "\r 15%|█▌        | 8/53 [00:09<00:49,  1.10s/it]"
          ]
        },
        {
          "output_type": "stream",
          "name": "stdout",
          "text": [
            "1/1 [==============================] - 0s 18ms/step\n"
          ]
        },
        {
          "output_type": "stream",
          "name": "stderr",
          "text": [
            "\r 17%|█▋        | 9/53 [00:10<00:46,  1.06s/it]"
          ]
        },
        {
          "output_type": "stream",
          "name": "stdout",
          "text": [
            "1/1 [==============================] - 0s 19ms/step\n"
          ]
        },
        {
          "output_type": "stream",
          "name": "stderr",
          "text": [
            "\r 19%|█▉        | 10/53 [00:12<00:45,  1.05s/it]"
          ]
        },
        {
          "output_type": "stream",
          "name": "stdout",
          "text": [
            "1/1 [==============================] - 0s 18ms/step\n"
          ]
        },
        {
          "output_type": "stream",
          "name": "stderr",
          "text": [
            "\r 21%|██        | 11/53 [00:12<00:43,  1.03s/it]"
          ]
        },
        {
          "output_type": "stream",
          "name": "stdout",
          "text": [
            "1/1 [==============================] - 0s 18ms/step\n"
          ]
        },
        {
          "output_type": "stream",
          "name": "stderr",
          "text": [
            "\r 23%|██▎       | 12/53 [00:14<00:42,  1.03s/it]"
          ]
        },
        {
          "output_type": "stream",
          "name": "stdout",
          "text": [
            "1/1 [==============================] - 0s 18ms/step\n"
          ]
        },
        {
          "output_type": "stream",
          "name": "stderr",
          "text": [
            "\r 25%|██▍       | 13/53 [00:15<00:40,  1.02s/it]"
          ]
        },
        {
          "output_type": "stream",
          "name": "stdout",
          "text": [
            "1/1 [==============================] - 0s 18ms/step\n"
          ]
        },
        {
          "output_type": "stream",
          "name": "stderr",
          "text": [
            "<ipython-input-13-debfe6277c85>:52: RuntimeWarning: invalid value encountered in scalar divide\n",
            "  iou_score = np.sum(intersection) / np.sum(union)\n",
            " 26%|██▋       | 14/53 [00:16<00:48,  1.24s/it]"
          ]
        },
        {
          "output_type": "stream",
          "name": "stdout",
          "text": [
            "1/1 [==============================] - 0s 28ms/step\n"
          ]
        },
        {
          "output_type": "stream",
          "name": "stderr",
          "text": [
            "\r 28%|██▊       | 15/53 [00:18<00:53,  1.41s/it]"
          ]
        },
        {
          "output_type": "stream",
          "name": "stdout",
          "text": [
            "1/1 [==============================] - 0s 18ms/step\n"
          ]
        },
        {
          "output_type": "stream",
          "name": "stderr",
          "text": [
            "\r 30%|███       | 16/53 [00:19<00:47,  1.29s/it]"
          ]
        },
        {
          "output_type": "stream",
          "name": "stdout",
          "text": [
            "1/1 [==============================] - 0s 18ms/step\n"
          ]
        },
        {
          "output_type": "stream",
          "name": "stderr",
          "text": [
            "\r 32%|███▏      | 17/53 [00:20<00:43,  1.20s/it]"
          ]
        },
        {
          "output_type": "stream",
          "name": "stdout",
          "text": [
            "1/1 [==============================] - 0s 18ms/step\n"
          ]
        },
        {
          "output_type": "stream",
          "name": "stderr",
          "text": [
            "\r 34%|███▍      | 18/53 [00:21<00:39,  1.14s/it]"
          ]
        },
        {
          "output_type": "stream",
          "name": "stdout",
          "text": [
            "1/1 [==============================] - 0s 19ms/step\n"
          ]
        },
        {
          "output_type": "stream",
          "name": "stderr",
          "text": [
            "\r 36%|███▌      | 19/53 [00:22<00:37,  1.10s/it]"
          ]
        },
        {
          "output_type": "stream",
          "name": "stdout",
          "text": [
            "1/1 [==============================] - 0s 18ms/step\n"
          ]
        },
        {
          "output_type": "stream",
          "name": "stderr",
          "text": [
            "\r 38%|███▊      | 20/53 [00:23<00:35,  1.08s/it]"
          ]
        },
        {
          "output_type": "stream",
          "name": "stdout",
          "text": [
            "1/1 [==============================] - 0s 18ms/step\n"
          ]
        },
        {
          "output_type": "stream",
          "name": "stderr",
          "text": [
            "\r 40%|███▉      | 21/53 [00:24<00:33,  1.06s/it]"
          ]
        },
        {
          "output_type": "stream",
          "name": "stdout",
          "text": [
            "1/1 [==============================] - 0s 18ms/step\n"
          ]
        },
        {
          "output_type": "stream",
          "name": "stderr",
          "text": [
            "\r 42%|████▏     | 22/53 [00:25<00:32,  1.04s/it]"
          ]
        },
        {
          "output_type": "stream",
          "name": "stdout",
          "text": [
            "1/1 [==============================] - 0s 18ms/step\n"
          ]
        },
        {
          "output_type": "stream",
          "name": "stderr",
          "text": [
            "\r 43%|████▎     | 23/53 [00:26<00:30,  1.03s/it]"
          ]
        },
        {
          "output_type": "stream",
          "name": "stdout",
          "text": [
            "1/1 [==============================] - 0s 18ms/step\n"
          ]
        },
        {
          "output_type": "stream",
          "name": "stderr",
          "text": [
            "\r 45%|████▌     | 24/53 [00:27<00:29,  1.02s/it]"
          ]
        },
        {
          "output_type": "stream",
          "name": "stdout",
          "text": [
            "1/1 [==============================] - 0s 18ms/step\n"
          ]
        },
        {
          "output_type": "stream",
          "name": "stderr",
          "text": [
            "\r 47%|████▋     | 25/53 [00:28<00:29,  1.05s/it]"
          ]
        },
        {
          "output_type": "stream",
          "name": "stdout",
          "text": [
            "1/1 [==============================] - 0s 26ms/step\n"
          ]
        },
        {
          "output_type": "stream",
          "name": "stderr",
          "text": [
            "\r 49%|████▉     | 26/53 [00:30<00:38,  1.42s/it]"
          ]
        },
        {
          "output_type": "stream",
          "name": "stdout",
          "text": [
            "1/1 [==============================] - 0s 33ms/step\n"
          ]
        },
        {
          "output_type": "stream",
          "name": "stderr",
          "text": [
            "\r 51%|█████     | 27/53 [00:32<00:38,  1.50s/it]"
          ]
        },
        {
          "output_type": "stream",
          "name": "stdout",
          "text": [
            "1/1 [==============================] - 0s 18ms/step\n"
          ]
        },
        {
          "output_type": "stream",
          "name": "stderr",
          "text": [
            "\r 53%|█████▎    | 28/53 [00:33<00:33,  1.35s/it]"
          ]
        },
        {
          "output_type": "stream",
          "name": "stdout",
          "text": [
            "1/1 [==============================] - 0s 18ms/step\n"
          ]
        },
        {
          "output_type": "stream",
          "name": "stderr",
          "text": [
            "\r 55%|█████▍    | 29/53 [00:34<00:29,  1.24s/it]"
          ]
        },
        {
          "output_type": "stream",
          "name": "stdout",
          "text": [
            "1/1 [==============================] - 0s 18ms/step\n"
          ]
        },
        {
          "output_type": "stream",
          "name": "stderr",
          "text": [
            "\r 57%|█████▋    | 30/53 [00:35<00:26,  1.16s/it]"
          ]
        },
        {
          "output_type": "stream",
          "name": "stdout",
          "text": [
            "1/1 [==============================] - 0s 18ms/step\n"
          ]
        },
        {
          "output_type": "stream",
          "name": "stderr",
          "text": [
            "\r 58%|█████▊    | 31/53 [00:36<00:24,  1.11s/it]"
          ]
        },
        {
          "output_type": "stream",
          "name": "stdout",
          "text": [
            "1/1 [==============================] - 0s 18ms/step\n"
          ]
        },
        {
          "output_type": "stream",
          "name": "stderr",
          "text": [
            "\r 60%|██████    | 32/53 [00:37<00:22,  1.08s/it]"
          ]
        },
        {
          "output_type": "stream",
          "name": "stdout",
          "text": [
            "1/1 [==============================] - 0s 18ms/step\n"
          ]
        },
        {
          "output_type": "stream",
          "name": "stderr",
          "text": [
            "\r 62%|██████▏   | 33/53 [00:38<00:21,  1.06s/it]"
          ]
        },
        {
          "output_type": "stream",
          "name": "stdout",
          "text": [
            "1/1 [==============================] - 0s 21ms/step\n"
          ]
        },
        {
          "output_type": "stream",
          "name": "stderr",
          "text": [
            "\r 64%|██████▍   | 34/53 [00:39<00:19,  1.04s/it]"
          ]
        },
        {
          "output_type": "stream",
          "name": "stdout",
          "text": [
            "1/1 [==============================] - 0s 18ms/step\n"
          ]
        },
        {
          "output_type": "stream",
          "name": "stderr",
          "text": [
            "\r 66%|██████▌   | 35/53 [00:40<00:18,  1.03s/it]"
          ]
        },
        {
          "output_type": "stream",
          "name": "stdout",
          "text": [
            "1/1 [==============================] - 0s 20ms/step\n"
          ]
        },
        {
          "output_type": "stream",
          "name": "stderr",
          "text": [
            "\r 68%|██████▊   | 36/53 [00:41<00:17,  1.02s/it]"
          ]
        },
        {
          "output_type": "stream",
          "name": "stdout",
          "text": [
            "1/1 [==============================] - 0s 18ms/step\n"
          ]
        },
        {
          "output_type": "stream",
          "name": "stderr",
          "text": [
            "\r 70%|██████▉   | 37/53 [00:42<00:16,  1.05s/it]"
          ]
        },
        {
          "output_type": "stream",
          "name": "stdout",
          "text": [
            "1/1 [==============================] - 0s 25ms/step\n"
          ]
        },
        {
          "output_type": "stream",
          "name": "stderr",
          "text": [
            "\r 72%|███████▏  | 38/53 [00:44<00:19,  1.27s/it]"
          ]
        },
        {
          "output_type": "stream",
          "name": "stdout",
          "text": [
            "1/1 [==============================] - 0s 27ms/step\n"
          ]
        },
        {
          "output_type": "stream",
          "name": "stderr",
          "text": [
            "\r 74%|███████▎  | 39/53 [00:46<00:19,  1.37s/it]"
          ]
        },
        {
          "output_type": "stream",
          "name": "stdout",
          "text": [
            "1/1 [==============================] - 0s 18ms/step\n"
          ]
        },
        {
          "output_type": "stream",
          "name": "stderr",
          "text": [
            "\r 75%|███████▌  | 40/53 [00:47<00:16,  1.26s/it]"
          ]
        },
        {
          "output_type": "stream",
          "name": "stdout",
          "text": [
            "1/1 [==============================] - 0s 19ms/step\n"
          ]
        },
        {
          "output_type": "stream",
          "name": "stderr",
          "text": [
            "\r 77%|███████▋  | 41/53 [00:48<00:15,  1.29s/it]"
          ]
        },
        {
          "output_type": "stream",
          "name": "stdout",
          "text": [
            "1/1 [==============================] - 0s 71ms/step\n"
          ]
        },
        {
          "output_type": "stream",
          "name": "stderr",
          "text": [
            "\r 79%|███████▉  | 42/53 [00:49<00:14,  1.28s/it]"
          ]
        },
        {
          "output_type": "stream",
          "name": "stdout",
          "text": [
            "1/1 [==============================] - 0s 18ms/step\n"
          ]
        },
        {
          "output_type": "stream",
          "name": "stderr",
          "text": [
            "\r 81%|████████  | 43/53 [00:50<00:11,  1.19s/it]"
          ]
        },
        {
          "output_type": "stream",
          "name": "stdout",
          "text": [
            "1/1 [==============================] - 0s 18ms/step\n"
          ]
        },
        {
          "output_type": "stream",
          "name": "stderr",
          "text": [
            "\r 83%|████████▎ | 44/53 [00:51<00:10,  1.13s/it]"
          ]
        },
        {
          "output_type": "stream",
          "name": "stdout",
          "text": [
            "1/1 [==============================] - 0s 18ms/step\n"
          ]
        },
        {
          "output_type": "stream",
          "name": "stderr",
          "text": [
            "\r 85%|████████▍ | 45/53 [00:52<00:08,  1.09s/it]"
          ]
        },
        {
          "output_type": "stream",
          "name": "stdout",
          "text": [
            "1/1 [==============================] - 0s 21ms/step\n"
          ]
        },
        {
          "output_type": "stream",
          "name": "stderr",
          "text": [
            "\r 87%|████████▋ | 46/53 [00:53<00:07,  1.06s/it]"
          ]
        },
        {
          "output_type": "stream",
          "name": "stdout",
          "text": [
            "1/1 [==============================] - 0s 18ms/step\n"
          ]
        },
        {
          "output_type": "stream",
          "name": "stderr",
          "text": [
            "\r 89%|████████▊ | 47/53 [00:54<00:06,  1.04s/it]"
          ]
        },
        {
          "output_type": "stream",
          "name": "stdout",
          "text": [
            "1/1 [==============================] - 0s 18ms/step\n"
          ]
        },
        {
          "output_type": "stream",
          "name": "stderr",
          "text": [
            "\r 91%|█████████ | 48/53 [00:55<00:05,  1.03s/it]"
          ]
        },
        {
          "output_type": "stream",
          "name": "stdout",
          "text": [
            "1/1 [==============================] - 0s 18ms/step\n"
          ]
        },
        {
          "output_type": "stream",
          "name": "stderr",
          "text": [
            "\r 92%|█████████▏| 49/53 [00:57<00:04,  1.20s/it]"
          ]
        },
        {
          "output_type": "stream",
          "name": "stdout",
          "text": [
            "1/1 [==============================] - 0s 26ms/step\n"
          ]
        },
        {
          "output_type": "stream",
          "name": "stderr",
          "text": [
            "\r 94%|█████████▍| 50/53 [00:59<00:04,  1.38s/it]"
          ]
        },
        {
          "output_type": "stream",
          "name": "stdout",
          "text": [
            "1/1 [==============================] - 0s 29ms/step\n"
          ]
        },
        {
          "output_type": "stream",
          "name": "stderr",
          "text": [
            "\r 96%|█████████▌| 51/53 [01:00<00:02,  1.35s/it]"
          ]
        },
        {
          "output_type": "stream",
          "name": "stdout",
          "text": [
            "1/1 [==============================] - 0s 18ms/step\n"
          ]
        },
        {
          "output_type": "stream",
          "name": "stderr",
          "text": [
            "\r 98%|█████████▊| 52/53 [01:01<00:01,  1.24s/it]"
          ]
        },
        {
          "output_type": "stream",
          "name": "stdout",
          "text": [
            "1/1 [==============================] - 0s 18ms/step\n"
          ]
        },
        {
          "output_type": "stream",
          "name": "stderr",
          "text": [
            "100%|██████████| 53/53 [01:02<00:00,  1.18s/it]"
          ]
        },
        {
          "output_type": "stream",
          "name": "stdout",
          "text": [
            "Average Pixel Accuracy (%):  99.84096311173349\n",
            "Average Mean Accuracy (%):  94.26024616967217\n",
            "Average Mean IoU (%):  90.3247489419954\n",
            "Average FWIoU (%):  99.70054074812346\n"
          ]
        },
        {
          "output_type": "stream",
          "name": "stderr",
          "text": [
            "\n"
          ]
        }
      ]
    },
    {
      "cell_type": "code",
      "source": [],
      "metadata": {
        "id": "stQq-aTI8u5N"
      },
      "execution_count": null,
      "outputs": []
    }
  ]
}